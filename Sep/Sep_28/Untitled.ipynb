{
 "cells": [
  {
   "cell_type": "code",
   "execution_count": 2,
   "metadata": {},
   "outputs": [
    {
     "ename": "ModuleNotFoundError",
     "evalue": "No module named 'pandas_datareader'",
     "output_type": "error",
     "traceback": [
      "\u001b[1;31m---------------------------------------------------------------------------\u001b[0m",
      "\u001b[1;31mModuleNotFoundError\u001b[0m                       Traceback (most recent call last)",
      "\u001b[1;32m<ipython-input-2-7ee341d03ea3>\u001b[0m in \u001b[0;36m<module>\u001b[1;34m\u001b[0m\n\u001b[0;32m      3\u001b[0m \u001b[1;32mimport\u001b[0m \u001b[0mmatplotlib\u001b[0m\u001b[1;33m.\u001b[0m\u001b[0mpyplot\u001b[0m \u001b[1;32mas\u001b[0m \u001b[0mplt\u001b[0m\u001b[1;33m\u001b[0m\u001b[1;33m\u001b[0m\u001b[0m\n\u001b[0;32m      4\u001b[0m \u001b[1;32mimport\u001b[0m \u001b[0mdatetime\u001b[0m\u001b[1;33m\u001b[0m\u001b[1;33m\u001b[0m\u001b[0m\n\u001b[1;32m----> 5\u001b[1;33m \u001b[1;32mimport\u001b[0m \u001b[0mpandas_datareader\u001b[0m\u001b[1;33m.\u001b[0m\u001b[0mdata\u001b[0m \u001b[1;32mas\u001b[0m \u001b[0mweb\u001b[0m\u001b[1;33m\u001b[0m\u001b[1;33m\u001b[0m\u001b[0m\n\u001b[0m",
      "\u001b[1;31mModuleNotFoundError\u001b[0m: No module named 'pandas_datareader'"
     ]
    }
   ],
   "source": [
    "import numpy as np \n",
    "import pandas as pd\n",
    "import matplotlib.pyplot as plt\n",
    "import datetime\n",
    "# import pandas_datareader.data as web"
   ]
  },
  {
   "cell_type": "code",
   "execution_count": 5,
   "metadata": {},
   "outputs": [
    {
     "ename": "ModuleNotFoundError",
     "evalue": "No module named 'tabulate'",
     "output_type": "error",
     "traceback": [
      "\u001b[1;31m---------------------------------------------------------------------------\u001b[0m",
      "\u001b[1;31mModuleNotFoundError\u001b[0m                       Traceback (most recent call last)",
      "\u001b[1;32m<ipython-input-5-1dafa92b969b>\u001b[0m in \u001b[0;36m<module>\u001b[1;34m\u001b[0m\n\u001b[0;32m      4\u001b[0m \u001b[1;32mimport\u001b[0m \u001b[0mmatplotlib\u001b[0m\u001b[1;33m.\u001b[0m\u001b[0mpyplot\u001b[0m \u001b[1;32mas\u001b[0m \u001b[0mplt\u001b[0m\u001b[1;33m\u001b[0m\u001b[1;33m\u001b[0m\u001b[0m\n\u001b[0;32m      5\u001b[0m \u001b[1;32mimport\u001b[0m \u001b[0mdatetime\u001b[0m\u001b[1;33m\u001b[0m\u001b[1;33m\u001b[0m\u001b[0m\n\u001b[1;32m----> 6\u001b[1;33m \u001b[1;32mfrom\u001b[0m \u001b[0mtabulate\u001b[0m \u001b[1;32mimport\u001b[0m \u001b[0mtabulate\u001b[0m\u001b[1;33m\u001b[0m\u001b[1;33m\u001b[0m\u001b[0m\n\u001b[0m\u001b[0;32m      7\u001b[0m \u001b[1;32mimport\u001b[0m \u001b[0mwarnings\u001b[0m\u001b[1;33m\u001b[0m\u001b[1;33m\u001b[0m\u001b[0m\n\u001b[0;32m      8\u001b[0m \u001b[0mwarnings\u001b[0m\u001b[1;33m.\u001b[0m\u001b[0mfilterwarnings\u001b[0m\u001b[1;33m(\u001b[0m\u001b[1;34m'ignore'\u001b[0m\u001b[1;33m)\u001b[0m\u001b[1;33m\u001b[0m\u001b[1;33m\u001b[0m\u001b[0m\n",
      "\u001b[1;31mModuleNotFoundError\u001b[0m: No module named 'tabulate'"
     ]
    }
   ],
   "source": [
    "%matplotlib inline\n",
    "import numpy as np \n",
    "import pandas as pd\n",
    "import matplotlib.pyplot as plt\n",
    "import datetime\n",
    "from tabulate import tabulate\n",
    "import warnings\n",
    "warnings.filterwarnings('ignore')\n",
    "import pandas_datareader.data as web\n",
    "\n",
    "def MovingAverageCrossStrategy(stock_symbol = 'ULTRACEMCO.NS', start_date = '2018-01-01', end_date = '2020-01-01', \n",
    "                               short_window = 20, long_window = 50, moving_avg = 'SMA', display_table = True):\n",
    "   \n",
    "    # stock_symbol - (str)stock ticker as on Yahoo finance. Eg: 'ULTRACEMCO.NS' \n",
    "    # start_date - (str)start analysis from this date (format: 'YYYY-MM-DD') Eg: '2018-01-01'\n",
    "    # end_date - (str)end analysis on this date (format: 'YYYY-MM-DD') Eg: '2020-01-01'\n",
    "    # short_window - (int)lookback period for short-term moving average. Eg: 5, 10, 20 \n",
    "    # long_window - (int)lookback period for long-term moving average. Eg: 50, 100, 200\n",
    "    # moving_avg - (str)the type of moving average to use ('SMA' or 'EMA')\n",
    "    # display_table - (bool)whether to display the date and price table at buy/sell positions(True/False)\n",
    "\n",
    "    # import the closing price data of the stock for the aforementioned period of time in Pandas dataframe\n",
    "    start = datetime.datetime(*map(int, start_date.split('-')))\n",
    "    end = datetime.datetime(*map(int, end_date.split('-'))) \n",
    "    stock_df = web.DataReader(stock_symbol, 'yahoo', start = start, end = end)['Close']\n",
    "    stock_df = pd.DataFrame(stock_df) # convert Series object to dataframe \n",
    "    stock_df.columns = {'Close Price'} # assign new colun name\n",
    "    stock_df.dropna(axis = 0, inplace = True) # remove any null rows \n",
    "                        \n",
    "    # column names for long and short moving average columns\n",
    "    short_window_col = str(short_window) + '_' + moving_avg\n",
    "    long_window_col = str(long_window) + '_' + moving_avg  \n",
    "  \n",
    "    if moving_avg == 'SMA':\n",
    "        # Create a short simple moving average column\n",
    "        stock_df[short_window_col] = stock_df['Close Price'].rolling(window = short_window, min_periods = 1).mean()\n",
    "\n",
    "        # Create a long simple moving average column\n",
    "        stock_df[long_window_col] = stock_df['Close Price'].rolling(window = long_window, min_periods = 1).mean()\n",
    "\n",
    "    elif moving_avg == 'EMA':\n",
    "        # Create short exponential moving average column\n",
    "        stock_df[short_window_col] = stock_df['Close Price'].ewm(span = short_window, adjust = False).mean()\n",
    "\n",
    "        # Create a long exponential moving average column\n",
    "        stock_df[long_window_col] = stock_df['Close Price'].ewm(span = long_window, adjust = False).mean()\n",
    "\n",
    "    # create a new column 'Signal' such that if faster moving average is greater than slower moving average \n",
    "    # then set Signal as 1 else 0.\n",
    "    stock_df['Signal'] = 0.0  \n",
    "    stock_df['Signal'] = np.where(stock_df[short_window_col] > stock_df[long_window_col], 1.0, 0.0) \n",
    "\n",
    "    # create a new column 'Position' which is a day-to-day difference of the 'Signal' column. \n",
    "    stock_df['Position'] = stock_df['Signal'].diff()\n",
    "\n",
    "    # plot close price, short-term and long-term moving averages\n",
    "    plt.figure(figsize = (20,10))\n",
    "    plt.tick_params(axis = 'both', labelsize = 14)\n",
    "    stock_df['Close Price'].plot(color = 'k', lw = 1, label = 'Close Price')  \n",
    "    stock_df[short_window_col].plot(color = 'b', lw = 1, label = short_window_col)\n",
    "    stock_df[long_window_col].plot(color = 'g', lw = 1, label = long_window_col) \n",
    "\n",
    "    # plot 'buy' signals\n",
    "    plt.plot(stock_df[stock_df['Position'] == 1].index, \n",
    "            stock_df[short_window_col][stock_df['Position'] == 1], \n",
    "            '^', markersize = 15, color = 'g', alpha = 0.7, label = 'buy')\n",
    "\n",
    "    # plot 'sell' signals\n",
    "    plt.plot(stock_df[stock_df['Position'] == -1].index, \n",
    "            stock_df[short_window_col][stock_df['Position'] == -1], \n",
    "            'v', markersize = 15, color = 'r', alpha = 0.7, label = 'sell')\n",
    "    plt.ylabel('Price in ₹', fontsize = 16 )\n",
    "    plt.xlabel('Date', fontsize = 16 )\n",
    "    plt.title(str(stock_symbol) + ' - ' + str(moving_avg) + ' Crossover', fontsize = 20)\n",
    "    plt.legend()\n",
    "    plt.grid()\n",
    "    plt.show()\n",
    "    \n",
    "    if display_table == True:\n",
    "        df_pos = stock_df[(stock_df['Position'] == 1) | (stock_df['Position'] == -1)]\n",
    "        df_pos['Position'] = df_pos['Position'].apply(lambda x: 'Buy' if x == 1 else 'Sell')\n",
    "        print(tabulate(df_pos, headers = 'keys', tablefmt = 'psql'))\n"
   ]
  }
 ],
 "metadata": {
  "kernelspec": {
   "display_name": "Python 3",
   "language": "python",
   "name": "python3"
  },
  "language_info": {
   "codemirror_mode": {
    "name": "ipython",
    "version": 3
   },
   "file_extension": ".py",
   "mimetype": "text/x-python",
   "name": "python",
   "nbconvert_exporter": "python",
   "pygments_lexer": "ipython3",
   "version": "3.7.6"
  }
 },
 "nbformat": 4,
 "nbformat_minor": 4
}
